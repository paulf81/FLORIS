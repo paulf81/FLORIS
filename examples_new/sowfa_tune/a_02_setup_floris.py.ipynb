{
 "cells": [
  {
   "cell_type": "markdown",
   "metadata": {},
   "source": [
    "# Setup the floris models"
   ]
  },
  {
   "cell_type": "markdown",
   "metadata": {},
   "source": [
    "Setup a dictionary of FLORIS models to be evaluated:\n",
    "    \n",
    "Gauss Legacy: Set up to match previous implementations of FLORIS\n",
    "Gauss: Set up in new configuration, but with matching tunings\n",
    "Gauss Tune: Will be structurally same as gauss, but with parameters re-tuned"
   ]
  },
  {
   "cell_type": "code",
   "execution_count": 8,
   "metadata": {},
   "outputs": [],
   "source": [
    "import matplotlib.pyplot as plt\n",
    "import floris.tools as wfct\n",
    "import numpy as np\n",
    "import pandas as pd\n",
    "import copy\n",
    "import seaborn as sns\n",
    "import pickle"
   ]
  },
  {
   "cell_type": "markdown",
   "metadata": {},
   "source": [
    "## Setup FLORIS models"
   ]
  },
  {
   "cell_type": "code",
   "execution_count": 9,
   "metadata": {},
   "outputs": [],
   "source": [
    "fi_dict = dict()"
   ]
  },
  {
   "cell_type": "code",
   "execution_count": 11,
   "metadata": {},
   "outputs": [
    {
     "name": "stdout",
     "output_type": "stream",
     "text": [
      "<\n",
      "<=\n",
      "<\n",
      "<\n"
     ]
    }
   ],
   "source": [
    "# Set up the FLORIS VERSIONS\n",
    "\n",
    "# Gauss Class \n",
    "fi_g = wfct.floris_interface.FlorisInterface(\"../other_jsons/input_merge.json\")\n",
    "fi_dict['g'] = (fi_g,'b','s','gauss')\n",
    "\n",
    "# Gauss New Class \n",
    "fi_tune = wfct.floris_interface.FlorisInterface(\"../other_jsons/input_merge_rotor_points.json\")\n",
    "fi_dict['gt'] = (fi_tune,'r','d','gauss_tune')\n",
    "\n",
    "# Define a gch paper version\n",
    "fi_gch = wfct.floris_interface.FlorisInterface(\"../other_jsons/input_gch_paper.json\")\n",
    "fi_dict['gch'] = (fi_gch, 'g','o', 'gch_paper')\n",
    "\n",
    "# Define a legacy version\n",
    "fi_leg = wfct.floris_interface.FlorisInterface(\"../other_jsons/input_legacy.json\")\n",
    "fi_dict['leg'] = (fi_leg, 'gray', '^', 'legacy')\n",
    "\n",
    "\n",
    "# Define new default version (This is just gch_paper right now so comment out)\n",
    "# fi_def = wfct.floris_interface.FlorisInterface(\"../example_input.json\")\n",
    "# fi_dict['def'] = (fi_def, 'orange', '*', 'default')"
   ]
  },
  {
   "cell_type": "code",
   "execution_count": 12,
   "metadata": {},
   "outputs": [],
   "source": [
    "# Save dict\n",
    "pickle.dump( fi_dict, open( \"floris_models.p\", \"wb\" ) )"
   ]
  },
  {
   "cell_type": "code",
   "execution_count": null,
   "metadata": {},
   "outputs": [],
   "source": []
  }
 ],
 "metadata": {
  "kernelspec": {
   "display_name": "Python 3.7.6 64-bit ('floris': conda)",
   "language": "python",
   "name": "python37664bitfloriscondabf631bda36b5440ea8c8f9e7c7e53550"
  },
  "language_info": {
   "codemirror_mode": {
    "name": "ipython",
    "version": 3
   },
   "file_extension": ".py",
   "mimetype": "text/x-python",
   "name": "python",
   "nbconvert_exporter": "python",
   "pygments_lexer": "ipython3",
   "version": "3.7.6"
  }
 },
 "nbformat": 4,
 "nbformat_minor": 4
}
